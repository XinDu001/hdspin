{
 "cells": [
  {
   "cell_type": "code",
   "execution_count": null,
   "id": "f1cc67b9-5066-4d3b-9d84-9b436b76b1cf",
   "metadata": {
    "tags": []
   },
   "outputs": [],
   "source": [
    "%load_ext autoreload\n",
    "%autoreload 2\n",
    "%config Completer.use_jedi = False"
   ]
  },
  {
   "cell_type": "code",
   "execution_count": null,
   "id": "960fb40f-a313-4bc9-b18f-0b16dd42f94a",
   "metadata": {
    "tags": []
   },
   "outputs": [],
   "source": [
    "from functools import cache\n",
    "import json\n",
    "from pathlib import Path\n",
    "\n",
    "import numpy as np\n",
    "import matplotlib.pyplot as plt\n",
    "import matplotlib as mpl"
   ]
  },
  {
   "cell_type": "markdown",
   "id": "e1080cc6-de28-4b4f-914b-aca8a6c95301",
   "metadata": {},
   "source": [
    "Set some nice defaults"
   ]
  },
  {
   "cell_type": "code",
   "execution_count": null,
   "id": "2fe89229-152e-41a9-af14-215936df1a4c",
   "metadata": {
    "tags": []
   },
   "outputs": [],
   "source": [
    "def set_defaults(labelsize=12, dpi=250):\n",
    "    mpl.rcParams[\"mathtext.fontset\"] = \"stix\"\n",
    "    mpl.rcParams[\"font.family\"] = \"STIXGeneral\"\n",
    "    mpl.rcParams[\"text.usetex\"] = True\n",
    "    plt.rc(\"xtick\", labelsize=labelsize)\n",
    "    plt.rc(\"ytick\", labelsize=labelsize)\n",
    "    plt.rc(\"axes\", labelsize=labelsize)\n",
    "    mpl.rcParams[\"figure.dpi\"] = dpi\n",
    "\n",
    "\n",
    "def set_grids(\n",
    "    ax,\n",
    "    minorticks=True,\n",
    "    grid=False,\n",
    "    bottom=True,\n",
    "    left=True,\n",
    "    right=True,\n",
    "    top=True,\n",
    "):\n",
    "    if minorticks:\n",
    "        ax.minorticks_on()\n",
    "\n",
    "    ax.tick_params(\n",
    "        which=\"both\",\n",
    "        direction=\"in\",\n",
    "        bottom=bottom,\n",
    "        left=left,\n",
    "        top=top,\n",
    "        right=right,\n",
    "    )\n",
    "\n",
    "    if grid:\n",
    "        ax.grid(which=\"minor\", alpha=0.2, linestyle=\":\")\n",
    "        ax.grid(which=\"major\", alpha=0.5)"
   ]
  },
  {
   "cell_type": "code",
   "execution_count": null,
   "id": "e96d27f1-5ae5-4c0a-bdfa-7dc6b01b91d2",
   "metadata": {
    "tags": []
   },
   "outputs": [],
   "source": [
    "set_defaults()"
   ]
  },
  {
   "cell_type": "markdown",
   "id": "13d3c36b-c325-42cc-8c59-ae0d46298763",
   "metadata": {},
   "source": [
    "Simple helpers."
   ]
  },
  {
   "cell_type": "code",
   "execution_count": null,
   "id": "7ddbeb52-cbc3-4b8b-b448-377cf816b3d8",
   "metadata": {
    "tags": []
   },
   "outputs": [],
   "source": [
    "def read_json(path):\n",
    "    with open(path, 'r') as infile:\n",
    "        dat = json.load(infile)\n",
    "    return dat"
   ]
  },
  {
   "cell_type": "code",
   "execution_count": null,
   "id": "baa7d11e-b770-4d9c-87f9-dfa01909c439",
   "metadata": {
    "tags": []
   },
   "outputs": [],
   "source": [
    "def load(root):\n",
    "    root = Path(root)\n",
    "    config = read_json(root / \"config.json\")\n",
    "    results = read_json(root / \"results.json\")\n",
    "    diagnostics_path = root / \"diagnostics.json\"\n",
    "    diagnostics = None\n",
    "    if diagnostics_path.exists():\n",
    "        diagnostics = read_json(diagnostics_path)\n",
    "    return config, results, diagnostics"
   ]
  },
  {
   "cell_type": "markdown",
   "id": "37b21768-a8a0-466f-bea7-4439d0a89a26",
   "metadata": {},
   "source": [
    "Other helpers for nice plots."
   ]
  },
  {
   "cell_type": "code",
   "execution_count": null,
   "id": "57252432-b86c-4d82-9838-616c8c2492e3",
   "metadata": {},
   "outputs": [],
   "source": [
    "plot_kwargs = {\n",
    "    'linewidth': 1.0,\n",
    "    'marker': 's',\n",
    "    'ms': 1.0,\n",
    "    'capthick': 0.3,\n",
    "    'capsize': 2.0,\n",
    "    'elinewidth': 0.3\n",
    "}"
   ]
  },
  {
   "cell_type": "markdown",
   "id": "2a918590-e7d9-4811-90b6-a357fe02a1ea",
   "metadata": {},
   "source": [
    "# Functions to make the visuals"
   ]
  },
  {
   "cell_type": "markdown",
   "id": "6b853c03-d67e-40f0-a229-73c4c8129f9a",
   "metadata": {},
   "source": [
    "Edit these however you want to affect how the report looks in the end!"
   ]
  },
  {
   "cell_type": "markdown",
   "id": "b7bc7c31-3b6b-43a1-9a66-88fa200c5102",
   "metadata": {},
   "source": [
    "## Arcsine law"
   ]
  },
  {
   "cell_type": "code",
   "execution_count": null,
   "id": "fd56aa23-5e15-406e-800e-a12d632dec44",
   "metadata": {
    "tags": []
   },
   "outputs": [],
   "source": [
    "from scipy.integrate import quad\n",
    "\n",
    "@cache\n",
    "def hxw(x, w=0.5):\n",
    "    \"\"\"Equation 3 in the Cammarota 2018 paper.\"\"\"\n",
    "\n",
    "    def integrand(u):\n",
    "        return 1.0 / (1.0 + u) / u**x\n",
    "\n",
    "    return quad(integrand, w, np.inf)[0] * np.sin(np.pi * x) / np.pi"
   ]
  },
  {
   "cell_type": "markdown",
   "id": "816bda83-98bd-4158-bf4d-1b670fb1b749",
   "metadata": {},
   "source": [
    "## Energy"
   ]
  },
  {
   "cell_type": "code",
   "execution_count": null,
   "id": "9c24e5e5-91e8-471a-9654-464fbcfba44e",
   "metadata": {
    "tags": []
   },
   "outputs": [],
   "source": [
    "def make_energy_plot(\n",
    "    ax,\n",
    "    config,\n",
    "    results,\n",
    "    every=4,\n",
    "    use_standard_error=True,\n",
    "    plot_kwargs=plot_kwargs,\n",
    "    color=\"blue\",\n",
    "    label=None,\n",
    "    plot_guideline=True,\n",
    "    guideline_color=None,\n",
    "    guideline_label=None,\n",
    "):\n",
    "    key = \"energy\"\n",
    "    grid = np.array(results[\"grids\"][key])[::every] + 1\n",
    "    obs = results[key]\n",
    "    mean = np.array(obs[\"mean\"])[::every]\n",
    "    if use_standard_error:\n",
    "        err = np.array(obs[\"standard_error\"])[::every]\n",
    "    else:\n",
    "        err = np.array(obs[\"standard_deviation\"])[::every]\n",
    "\n",
    "    ax.errorbar(\n",
    "        grid,\n",
    "        mean,\n",
    "        yerr=2*err,\n",
    "        color=color,\n",
    "        label=label,\n",
    "        **plot_kwargs\n",
    "    )\n",
    "\n",
    "    if plot_guideline:\n",
    "        guideline_grid = grid[10:] * 5\n",
    "        guideline = -1.0/config[\"beta\"] * np.log(guideline_grid)\n",
    "        guideline_color = guideline_color if guideline_color is not None else color\n",
    "        \n",
    "        diff = -1.0/config[\"beta\"] * np.log(grid[-1]) - mean[-1]\n",
    "        ax.plot(\n",
    "            guideline_grid,\n",
    "            guideline - diff,\n",
    "            color=guideline_color,\n",
    "            linestyle=\"-\",\n",
    "            label=guideline_label,\n",
    "            linewidth=0.2\n",
    "        )\n",
    "\n",
    "    ax.set_xscale(\"log\")\n",
    "    ax.set_xlabel(r\"$t$\")\n",
    "    ax.set_ylabel(r\"$E(t)$\")\n",
    "    \n",
    "    set_grids(ax)\n"
   ]
  },
  {
   "cell_type": "markdown",
   "id": "3438f79c-12da-4264-93e2-20dd6c8f7a98",
   "metadata": {},
   "source": [
    "## Ridge"
   ]
  },
  {
   "cell_type": "code",
   "execution_count": null,
   "id": "1eccaa2a-9e46-49bf-86d2-b4da6dbb9504",
   "metadata": {
    "tags": []
   },
   "outputs": [],
   "source": [
    "def make_ridge_plot(\n",
    "    ax,\n",
    "    config,\n",
    "    results,\n",
    "    every=4,\n",
    "    use_standard_error=True,\n",
    "    plot_kwargs=plot_kwargs,\n",
    "    color=\"blue\",\n",
    "    label=None,\n",
    "):\n",
    "\n",
    "    key = \"ridge_E\"\n",
    "    grid = np.array(results[\"grids\"][\"energy\"])[::every] + 1\n",
    "    obs = results[key]\n",
    "    mean = np.array(obs[\"median_mean\"])[::every]\n",
    "    try:\n",
    "        err = np.array(obs[\"median_std_err\"])[::every]\n",
    "    except:\n",
    "        # Stupid inconsistency between two versions of hdspin\n",
    "        # my bad\n",
    "        err = np.array(obs[\"median_standard_error\"])[::every]\n",
    "    # mean = np.array(obs[\"mean_mean\"])[::every]\n",
    "    # mean_standard_error = np.array(obs[\"mean_standard_error\"])[::every]\n",
    "    \n",
    "    # For ridges, we only want to start plotting after the first ridge\n",
    "    # is recorded\n",
    "    \n",
    "    where = np.where(mean != 0.0)[0]\n",
    "\n",
    "    ax.errorbar(\n",
    "        grid[where],\n",
    "        mean[where],\n",
    "        yerr=2*err[where],\n",
    "        color=color,\n",
    "        label=label,\n",
    "        **plot_kwargs\n",
    "    )    \n",
    "    \n",
    "    ax.set_xscale(\"log\")\n",
    "    ax.set_xlabel(r\"$t$\")\n",
    "    ax.set_ylabel(r\"$E_\\mathrm{median~ridge}(t)$\")\n",
    "    \n",
    "    set_grids(ax)"
   ]
  },
  {
   "cell_type": "markdown",
   "id": "d25d9848-8b3c-4d08-b0f0-48b24b37dbbc",
   "metadata": {},
   "source": [
    "## Emax"
   ]
  },
  {
   "cell_type": "code",
   "execution_count": null,
   "id": "f8fc131c-b31d-4fe5-8276-720be9b3ec6c",
   "metadata": {
    "tags": []
   },
   "outputs": [],
   "source": [
    "def make_emax2_plot(\n",
    "    ax,\n",
    "    config,\n",
    "    results,\n",
    "    every=4,\n",
    "    use_standard_error=True,\n",
    "    plot_kwargs=plot_kwargs,\n",
    "    color=\"blue\",\n",
    "    label=None,\n",
    "):\n",
    "    key = \"emax\"\n",
    "    \n",
    "    grid = np.array(results[\"grids\"][\"pi2\"])[::every] + 1\n",
    "    obs = results[key]\n",
    "    mean = np.array(obs[\"mean\"])[::every]\n",
    "    if use_standard_error:\n",
    "        err = np.array(obs[\"standard_error\"])[::every]\n",
    "    else:\n",
    "        err = np.array(obs[\"standard_deviation\"])[::every]\n",
    "\n",
    "    ax.errorbar(\n",
    "        grid,\n",
    "        mean,\n",
    "        yerr=2*err,\n",
    "        color=color,\n",
    "        label=label,\n",
    "        **plot_kwargs\n",
    "    )\n",
    "    \n",
    "    ax.set_xscale(\"log\")\n",
    "    ax.set_xlabel(r\"$t$\")\n",
    "    ax.set_ylabel(r\"$\\max_{t' \\in [t/2, t]} E(t')$\")\n",
    "    \n",
    "    set_grids(ax)"
   ]
  },
  {
   "cell_type": "markdown",
   "id": "a41ef2e8-ffb1-4dd0-847d-9ab60f30aad7",
   "metadata": {
    "tags": []
   },
   "source": [
    "## Cache size"
   ]
  },
  {
   "cell_type": "code",
   "execution_count": null,
   "id": "7452095e-dfa8-479d-a288-8ac67cee80a6",
   "metadata": {
    "tags": []
   },
   "outputs": [],
   "source": [
    "def make_cache_size_plot(\n",
    "    ax,\n",
    "    config,\n",
    "    results,\n",
    "    every=4,\n",
    "    use_standard_error=True,\n",
    "    plot_kwargs=plot_kwargs,\n",
    "    color=\"blue\",\n",
    "    label=None,\n",
    "    plot_guideline=True,\n",
    "    guideline_color=None,\n",
    "    guideline_label=None,\n",
    "):\n",
    "    key = \"cache_size\"\n",
    "    grid = np.array(results[\"grids\"][\"energy\"])[::every] + 1\n",
    "    obs = results[key]\n",
    "    mean = np.array(obs[\"mean\"])[::every] / config[\"memory\"]\n",
    "    if use_standard_error:\n",
    "        err = np.array(obs[\"standard_error\"])[::every] / config[\"memory\"]\n",
    "    else:\n",
    "        err = np.array(obs[\"standard_deviation\"])[::every] / config[\"memory\"]\n",
    "        \n",
    "    ax.errorbar(\n",
    "        grid,\n",
    "        mean,\n",
    "        yerr=err,\n",
    "        label=label,\n",
    "        color=color,\n",
    "        **plot_kwargs\n",
    "    )\n",
    "    \n",
    "    if plot_guideline:\n",
    "        guideline_grid = grid[10:] * 5\n",
    "        guideline = guideline_grid**(1.0/config[\"beta\"])\n",
    "        guideline_color = guideline_color if guideline_color is not None else color\n",
    "        \n",
    "        diff = grid[-1]**(1.0/config[\"beta\"]) / mean[-1]\n",
    "        \n",
    "        ax.plot(\n",
    "            guideline_grid,\n",
    "            guideline / diff,\n",
    "            color=guideline_color,\n",
    "            linestyle=\"-\",\n",
    "            label=guideline_label,\n",
    "            linewidth=0.2\n",
    "        )\n",
    "    \n",
    "    ax.set_xscale(\"log\")\n",
    "    ax.set_yscale(\"log\")\n",
    "    ax.set_xlabel(r\"$t$\")\n",
    "    ax.set_ylabel(r\"Cache Saturation\")\n",
    "    \n",
    "    set_grids(ax)"
   ]
  },
  {
   "cell_type": "markdown",
   "id": "80d3c05e-86a7-4b04-bac6-f1b9332d8c77",
   "metadata": {},
   "source": [
    "## Psi Config"
   ]
  },
  {
   "cell_type": "code",
   "execution_count": null,
   "id": "d21b5048-2631-4b5c-9522-1839989059c1",
   "metadata": {
    "tags": []
   },
   "outputs": [],
   "source": [
    "def make_psi_config_plot(\n",
    "    ax,\n",
    "    config,\n",
    "    results,\n",
    "    every=4,\n",
    "    use_standard_error=True,\n",
    "    plot_kwargs=plot_kwargs,\n",
    "    color=\"blue\",\n",
    "    label=None,\n",
    "    plot_guideline=True,\n",
    "    guideline_color=None,\n",
    "    guideline_label=None,\n",
    "):\n",
    "\n",
    "    key = \"psi_config\"\n",
    "    obs = results[key]\n",
    "    mean = np.array(obs[\"mean\"])\n",
    "    standard_deviation = np.array(obs[\"standard_deviation\"])\n",
    "    standard_error = np.array(obs[\"standard_error\"])\n",
    "    grid = np.array(results[\"grids\"][\"psi\"])\n",
    "    where = np.where(mean != 0)[0]\n",
    "    grid = grid[where]\n",
    "    mean = mean[where]\n",
    "    standard_deviation = standard_deviation[where]\n",
    "    standard_error = standard_error[where]\n",
    "    if use_standard_error:\n",
    "        err = standard_error\n",
    "    else:\n",
    "        err = standard_deviation\n",
    "        \n",
    "    ax.errorbar(\n",
    "        grid,\n",
    "        mean,\n",
    "        yerr=err,\n",
    "        label=label,\n",
    "        color=color,\n",
    "        **plot_kwargs\n",
    "    )\n",
    "    \n",
    "    if plot_guideline:\n",
    "        exp_ratio = config[\"beta_critical\"] / config[\"beta\"]\n",
    "        \n",
    "        guideline = grid**(-exp_ratio)\n",
    "        guideline_color = guideline_color if guideline_color is not None else color\n",
    "        n = len(grid) // 2\n",
    "        diff = grid[n]**(-exp_ratio) / mean[n]\n",
    "        \n",
    "        ax.plot(\n",
    "            grid,\n",
    "            guideline / diff,\n",
    "            color=\"black\",\n",
    "            linewidth=0.2,\n",
    "            # linestyle=\"--\",\n",
    "            # label=r\"$\\tau^{-\\beta_\\mathrm{c}/\\beta}$\"\n",
    "        )\n",
    "\n",
    "    \n",
    "    ax.set_xscale(\"log\")\n",
    "    ax.set_yscale(\"log\")\n",
    "    ax.set_xlabel(r\"$t$\")\n",
    "    ax.set_ylabel(r\"$\\psi_\\mathrm{C}(t)$\")\n",
    "    \n",
    "    set_grids(ax)"
   ]
  },
  {
   "cell_type": "markdown",
   "id": "9a522e4a-2f89-4e95-b59e-14b58d106960",
   "metadata": {},
   "source": [
    "## Psi Basin"
   ]
  },
  {
   "cell_type": "code",
   "execution_count": null,
   "id": "23bc3b25-218d-4255-903f-bf5ee8cfd362",
   "metadata": {
    "tags": []
   },
   "outputs": [],
   "source": [
    "def make_psi_basin_plot(\n",
    "    ax,\n",
    "    config,\n",
    "    results,\n",
    "    every=4,\n",
    "    use_standard_error=True,\n",
    "    plot_kwargs=plot_kwargs,\n",
    "    color=\"blue\",\n",
    "    label=None,\n",
    "    plot_guideline=True,\n",
    "    guideline_color=None,\n",
    "    guideline_label=None,\n",
    "):\n",
    "\n",
    "    key = \"psi_basin_E\"\n",
    "    obs = results[key]\n",
    "    mean = np.array(obs[\"mean\"])\n",
    "    standard_deviation = np.array(obs[\"standard_deviation\"])\n",
    "    standard_error = np.array(obs[\"standard_error\"])\n",
    "    grid = np.array(results[\"grids\"][\"psi\"])\n",
    "    where = np.where(mean != 0)[0]\n",
    "    grid = grid[where]\n",
    "    mean = mean[where]\n",
    "    standard_deviation = standard_deviation[where]\n",
    "    standard_error = standard_error[where]\n",
    "    if use_standard_error:\n",
    "        err = standard_error\n",
    "    else:\n",
    "        err = standard_deviation\n",
    "        \n",
    "    ax.errorbar(\n",
    "        grid,\n",
    "        mean,\n",
    "        yerr=err,\n",
    "        label=label,\n",
    "        color=color,\n",
    "        **plot_kwargs\n",
    "    )\n",
    "    \n",
    "    if plot_guideline:\n",
    "        exp_ratio = config[\"beta_critical\"] / config[\"beta\"]\n",
    "        \n",
    "        guideline = grid**(-exp_ratio)\n",
    "        guideline_color = guideline_color if guideline_color is not None else color\n",
    "        n = len(grid) // 2\n",
    "        diff = grid[n]**(-exp_ratio) / mean[n]\n",
    "        \n",
    "        ax.plot(\n",
    "            grid,\n",
    "            guideline / diff,\n",
    "            color=\"black\",\n",
    "            linewidth=0.2,\n",
    "            # linestyle=\"--\",\n",
    "            # label=r\"$\\tau^{-\\beta_\\mathrm{c}/\\beta}$\"\n",
    "        )\n",
    "\n",
    "    \n",
    "    ax.set_xscale(\"log\")\n",
    "    ax.set_yscale(\"log\")\n",
    "    ax.set_xlabel(r\"$t$\")\n",
    "    ax.set_ylabel(r\"$\\psi_\\mathrm{B}(t)$\")\n",
    "    \n",
    "    set_grids(ax)"
   ]
  },
  {
   "cell_type": "markdown",
   "id": "70771a86-82f9-4348-9217-177ce94ad03b",
   "metadata": {},
   "source": [
    "## Aging Config"
   ]
  },
  {
   "cell_type": "code",
   "execution_count": null,
   "id": "538ef648-800f-4a0f-acf9-3d973d431782",
   "metadata": {
    "tags": []
   },
   "outputs": [],
   "source": [
    "def make_aging_config_plot(\n",
    "    ax,\n",
    "    config,\n",
    "    results,\n",
    "    every=4,\n",
    "    use_standard_error=True,\n",
    "    plot_kwargs=plot_kwargs,\n",
    "    color=\"blue\",\n",
    "    label=None,\n",
    "    plot_guideline=True,\n",
    "    guideline_color=None,\n",
    "    guideline_label=None,\n",
    "):\n",
    "    \n",
    "    key = \"aging_config\"\n",
    "    obs = results[key]\n",
    "    mean = np.array(obs[\"mean\"])[::every]\n",
    "    standard_error = np.array(obs[\"standard_error\"])[::every]\n",
    "    standard_deviation = np.array(obs[\"standard_deviation\"])[::every]\n",
    "    grid = np.array(results[\"grids\"][\"pi1\"])[::every]\n",
    "    if use_standard_error:\n",
    "        err = standard_error\n",
    "    else:\n",
    "        err = standard_deviation\n",
    "    \n",
    "    ax.errorbar(\n",
    "        grid,\n",
    "        mean,\n",
    "        yerr=err,\n",
    "        label=label,\n",
    "        color=color,\n",
    "        **plot_kwargs\n",
    "    )\n",
    "    \n",
    "    if plot_guideline:\n",
    "        h = hxw(config[\"beta_critical\"]/config[\"beta\"])\n",
    "        if h > 0:\n",
    "            ax.axhline(h, linewidth=0.2, color=\"black\")\n",
    "    \n",
    "    ax.set_xscale(\"log\")\n",
    "    # ax.set_yscale(\"log\")\n",
    "    ax.set_xlabel(r\"$t$\")\n",
    "    ax.set_ylabel(r\"$\\Pi_\\mathrm{C}(t)$\")\n",
    "    \n",
    "    set_grids(ax)"
   ]
  },
  {
   "cell_type": "markdown",
   "id": "2e955469-d390-4543-aa9e-9f6ed3d8c7ca",
   "metadata": {},
   "source": [
    "## Aging Basin"
   ]
  },
  {
   "cell_type": "code",
   "execution_count": null,
   "id": "26b04ab2-095b-4790-aa31-d76eb9f5d497",
   "metadata": {
    "tags": []
   },
   "outputs": [],
   "source": [
    "def make_aging_basin_plot(\n",
    "    ax,\n",
    "    config,\n",
    "    results,\n",
    "    every=4,\n",
    "    use_standard_error=True,\n",
    "    plot_kwargs=plot_kwargs,\n",
    "    color=\"blue\",\n",
    "    label=None,\n",
    "    plot_guideline=True,\n",
    "    guideline_color=None,\n",
    "    guideline_label=None,\n",
    "):\n",
    "    \n",
    "    key = \"aging_basin_E\"\n",
    "    obs = results[key]\n",
    "    mean = np.array(obs[\"mean\"])[::every]\n",
    "    standard_error = np.array(obs[\"standard_error\"])[::every]\n",
    "    standard_deviation = np.array(obs[\"standard_deviation\"])[::every]\n",
    "    grid = np.array(results[\"grids\"][\"pi1\"])[::every]\n",
    "    if use_standard_error:\n",
    "        err = standard_error\n",
    "    else:\n",
    "        err = standard_deviation\n",
    "    \n",
    "    ax.errorbar(\n",
    "        grid,\n",
    "        mean,\n",
    "        yerr=err,\n",
    "        label=label,\n",
    "        color=color,\n",
    "        **plot_kwargs\n",
    "    )\n",
    "    \n",
    "    if plot_guideline:\n",
    "        h = hxw(config[\"beta_critical\"]/config[\"beta\"])\n",
    "        if h > 0:\n",
    "            ax.axhline(h, linewidth=0.2, color=\"black\")\n",
    "    \n",
    "    ax.set_xscale(\"log\")\n",
    "    # ax.set_yscale(\"log\")\n",
    "    ax.set_xlabel(r\"$t$\")\n",
    "    ax.set_ylabel(r\"$\\Pi_\\mathrm{B}(t)$\")\n",
    "    \n",
    "    set_grids(ax)"
   ]
  },
  {
   "cell_type": "markdown",
   "id": "86d67634-b3c9-443f-842a-485c9803b8e6",
   "metadata": {},
   "source": [
    "# Make report"
   ]
  },
  {
   "cell_type": "code",
   "execution_count": null,
   "id": "9a873f0a-4727-47a0-b3df-296626b95278",
   "metadata": {
    "tags": []
   },
   "outputs": [],
   "source": [
    "betas = [0.667, 1.333, 2.000, 3.000, 4.000]\n",
    "N = 64\n",
    "cmap = mpl.colormaps[\"viridis\"].resampled(len(betas))"
   ]
  },
  {
   "cell_type": "markdown",
   "id": "08313f27-4ac7-45a3-b90e-5cd4e00b7d1d",
   "metadata": {
    "tags": []
   },
   "source": [
    "## Energy"
   ]
  },
  {
   "cell_type": "code",
   "execution_count": null,
   "id": "5bd8f702-4910-43ef-b9bf-745474c1f5b7",
   "metadata": {
    "tags": []
   },
   "outputs": [],
   "source": [
    "fig, ax = plt.subplots(1, 1, figsize=(3, 2))\n",
    "\n",
    "for ii, beta in enumerate(betas):\n",
    "    guideline_label = None\n",
    "    plot_guideline = True\n",
    "    if ii == 1:\n",
    "        guideline_label = r\"$-T\\log t$\"\n",
    "    elif ii == 0:\n",
    "        plot_guideline = False\n",
    "    config, results, diagnostics = load(f\"mc_work/project/beta{beta:.03f}_N{N}\")\n",
    "    make_energy_plot(\n",
    "        ax,\n",
    "        config,\n",
    "        results,\n",
    "        color=cmap(ii),\n",
    "        label=beta,\n",
    "        use_standard_error=True,\n",
    "        plot_guideline=plot_guideline,\n",
    "        guideline_color=\"black\",\n",
    "        guideline_label=guideline_label\n",
    "    )\n",
    "ax.legend(frameon=False, bbox_to_anchor=(1.0, 0.5), loc=\"center left\")\n",
    "plt.show()"
   ]
  },
  {
   "cell_type": "markdown",
   "id": "99991568-7fbf-45b9-b924-e8e97cb2f839",
   "metadata": {},
   "source": [
    "## Ridge Energy"
   ]
  },
  {
   "cell_type": "code",
   "execution_count": null,
   "id": "7075ef89-d91d-4e0f-a7ab-0daf30d64aef",
   "metadata": {
    "tags": []
   },
   "outputs": [],
   "source": [
    "fig, ax = plt.subplots(1, 1, figsize=(3, 2))\n",
    "\n",
    "\n",
    "\n",
    "\n",
    "for ii, beta in enumerate(betas):\n",
    "    config, results, diagnostics = load(f\"mc_work/project/beta{beta:.03f}_N{N}\")\n",
    "    \n",
    "    if ii == 0:\n",
    "        # Eth is the same for all beta\n",
    "        et = config[\"energetic_threshold\"]\n",
    "        ax.axhline(et, color=\"black\", linewidth=0.2, label=\"$E_\\mathrm{th}=%.02f$\" % et)\n",
    "    \n",
    "    make_ridge_plot(\n",
    "        ax,\n",
    "        config,\n",
    "        results,\n",
    "        color=cmap(ii),\n",
    "        label=beta,\n",
    "        use_standard_error=True,\n",
    "    )\n",
    "ax.legend(frameon=False, bbox_to_anchor=(1.0, 0.5), loc=\"center left\")\n",
    "\n",
    "\n",
    "\n",
    "plt.show()"
   ]
  },
  {
   "cell_type": "markdown",
   "id": "d27628e5-4e03-4272-a35a-d1d1654734d1",
   "metadata": {
    "tags": []
   },
   "source": [
    "## Emax/2"
   ]
  },
  {
   "cell_type": "code",
   "execution_count": null,
   "id": "83ac5d14-dc8b-413f-820d-8e5f81a677d8",
   "metadata": {
    "tags": []
   },
   "outputs": [],
   "source": [
    "fig, ax = plt.subplots(1, 1, figsize=(3, 2))\n",
    "\n",
    "for ii, beta in enumerate(betas):\n",
    "    config, results, diagnostics = load(f\"mc_work/project/beta{beta:.03f}_N{N}\")\n",
    "    make_emax2_plot(\n",
    "        ax,\n",
    "        config,\n",
    "        results,\n",
    "        color=cmap(ii),\n",
    "        label=beta,\n",
    "        use_standard_error=True,\n",
    "    )\n",
    "ax.legend(frameon=False, bbox_to_anchor=(1.0, 0.5), loc=\"center left\")\n",
    "plt.show()"
   ]
  },
  {
   "cell_type": "markdown",
   "id": "11f413b9-de36-4d39-88ee-8131d6b11672",
   "metadata": {},
   "source": [
    "## Cache size"
   ]
  },
  {
   "cell_type": "code",
   "execution_count": null,
   "id": "b1c0fab0-bf36-4547-91a8-f75caea3ca99",
   "metadata": {
    "tags": []
   },
   "outputs": [],
   "source": [
    "fig, ax = plt.subplots(1, 1, figsize=(3, 2))\n",
    "\n",
    "for ii, beta in enumerate(betas):\n",
    "    guideline_label = None\n",
    "    plot_guideline = True\n",
    "    if ii == 1:\n",
    "        guideline_label = r\"$t^T$\"\n",
    "    config, results, diagnostics = load(f\"mc_work/project/beta{beta:.03f}_N{N}\")\n",
    "    make_cache_size_plot(\n",
    "        ax,\n",
    "        config,\n",
    "        results,\n",
    "        color=cmap(ii),\n",
    "        label=beta,\n",
    "        use_standard_error=True,\n",
    "        guideline_color=\"black\",\n",
    "        plot_guideline=plot_guideline,\n",
    "        guideline_label=guideline_label,\n",
    "    )\n",
    "ax.axhline(1, color=\"black\", zorder=-3)\n",
    "ax.legend(frameon=False, bbox_to_anchor=(1.0, 0.5), loc=\"center left\")\n",
    "plt.show()"
   ]
  },
  {
   "cell_type": "markdown",
   "id": "665ac5d0-dc11-44cb-8fba-c672241012f4",
   "metadata": {},
   "source": [
    "## Psi Config"
   ]
  },
  {
   "cell_type": "code",
   "execution_count": null,
   "id": "eac9108a-6d56-4ab4-8399-97b1863ac1ec",
   "metadata": {
    "tags": []
   },
   "outputs": [],
   "source": [
    "fig, ax = plt.subplots(1, 1, figsize=(3, 2))\n",
    "\n",
    "for ii, beta in enumerate(betas):\n",
    "    config, results, diagnostics = load(f\"mc_work/project/beta{beta:.03f}_N{N}\")\n",
    "    make_psi_config_plot(\n",
    "        ax,\n",
    "        config,\n",
    "        results,\n",
    "        color=cmap(ii),\n",
    "        label=beta,\n",
    "        use_standard_error=True,\n",
    "        plot_guideline=True,\n",
    "    )\n",
    "\n",
    "ax.legend(frameon=False, bbox_to_anchor=(1.0, 0.5), loc=\"center left\")\n",
    "plt.show()"
   ]
  },
  {
   "cell_type": "markdown",
   "id": "1b294932-2421-4e17-a629-128c5bf18a10",
   "metadata": {},
   "source": [
    "## Psi Basin"
   ]
  },
  {
   "cell_type": "code",
   "execution_count": null,
   "id": "9ec58ca2-4359-4b0d-b6c5-6594f5605576",
   "metadata": {
    "tags": []
   },
   "outputs": [],
   "source": [
    "fig, ax = plt.subplots(1, 1, figsize=(3, 2))\n",
    "\n",
    "for ii, beta in enumerate(betas):\n",
    "    config, results, diagnostics = load(f\"mc_work/project/beta{beta:.03f}_N{N}\")\n",
    "    make_psi_basin_plot(\n",
    "        ax,\n",
    "        config,\n",
    "        results,\n",
    "        color=cmap(ii),\n",
    "        label=beta,\n",
    "        use_standard_error=True,\n",
    "        plot_guideline=True,\n",
    "    )\n",
    "\n",
    "ax.legend(frameon=False, bbox_to_anchor=(1.0, 0.5), loc=\"center left\")\n",
    "plt.show()"
   ]
  },
  {
   "cell_type": "markdown",
   "id": "23b7eeb5-55ff-460e-b440-4e0e93b2d90a",
   "metadata": {},
   "source": [
    "## Aging Config"
   ]
  },
  {
   "cell_type": "code",
   "execution_count": null,
   "id": "76c4af3d-6355-4b08-b0f8-43865b5d6929",
   "metadata": {
    "tags": []
   },
   "outputs": [],
   "source": [
    "fig, ax = plt.subplots(1, 1, figsize=(3, 2))\n",
    "\n",
    "for ii, beta in enumerate(betas):\n",
    "    config, results, diagnostics = load(f\"mc_work/project/beta{beta:.03f}_N{N}\")\n",
    "    make_aging_config_plot(\n",
    "        ax,\n",
    "        config,\n",
    "        results,\n",
    "        color=cmap(ii),\n",
    "        label=beta,\n",
    "        use_standard_error=True,\n",
    "        plot_guideline=True,\n",
    "    )\n",
    "\n",
    "ax.legend(frameon=False, bbox_to_anchor=(1.0, 0.5), loc=\"center left\")\n",
    "plt.show()"
   ]
  },
  {
   "cell_type": "markdown",
   "id": "2ed053b6-e787-4ab7-b353-b8b66f00f90e",
   "metadata": {},
   "source": [
    "## Aging Basin"
   ]
  },
  {
   "cell_type": "code",
   "execution_count": null,
   "id": "0983684d-c000-4653-abd5-ad14737ecc3c",
   "metadata": {
    "tags": []
   },
   "outputs": [],
   "source": [
    "fig, ax = plt.subplots(1, 1, figsize=(3, 2))\n",
    "\n",
    "for ii, beta in enumerate(betas):\n",
    "    config, results, diagnostics = load(f\"mc_work/project/beta{beta:.03f}_N{N}\")\n",
    "    make_aging_basin_plot(\n",
    "        ax,\n",
    "        config,\n",
    "        results,\n",
    "        color=cmap(ii),\n",
    "        label=beta,\n",
    "        use_standard_error=True,\n",
    "        plot_guideline=True,\n",
    "    )\n",
    "\n",
    "ax.legend(frameon=False, bbox_to_anchor=(1.0, 0.5), loc=\"center left\")\n",
    "plt.show()"
   ]
  }
 ],
 "metadata": {
  "kernelspec": {
   "display_name": "Python 3 (ipykernel)",
   "language": "python",
   "name": "python3"
  },
  "language_info": {
   "codemirror_mode": {
    "name": "ipython",
    "version": 3
   },
   "file_extension": ".py",
   "mimetype": "text/x-python",
   "name": "python",
   "nbconvert_exporter": "python",
   "pygments_lexer": "ipython3",
   "version": "3.11.0"
  }
 },
 "nbformat": 4,
 "nbformat_minor": 5
}
